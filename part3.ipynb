{
 "cells": [
  {
   "cell_type": "code",
   "execution_count": 1,
   "metadata": {},
   "outputs": [],
   "source": [
    "import pandas as pd\n",
    "from sklearn.model_selection import train_test_split\n",
    "from sklearn.svm import SVC\n",
    "from sklearn.metrics import classification_report\n",
    "import numpy as np"
   ]
  },
  {
   "cell_type": "code",
   "execution_count": 2,
   "metadata": {},
   "outputs": [],
   "source": [
    "df = pd.read_csv('cleaned_tweets.csv')"
   ]
  },
  {
   "cell_type": "code",
   "execution_count": 3,
   "metadata": {},
   "outputs": [],
   "source": [
    "# Create train/test split\n",
    "train_df, test_df = train_test_split(df, test_size=0.1, shuffle=True)"
   ]
  },
  {
   "cell_type": "code",
   "execution_count": 4,
   "metadata": {},
   "outputs": [
    {
     "name": "stdout",
     "output_type": "stream",
     "text": [
      "Train set class distribution:\n",
      "airline_sentiment\n",
      "negative    8157\n",
      "neutral     2583\n",
      "positive    1955\n",
      "Name: count, dtype: int64\n",
      "\n",
      "Test set class distribution:\n",
      "airline_sentiment\n",
      "negative    892\n",
      "neutral     311\n",
      "positive    208\n",
      "Name: count, dtype: int64\n"
     ]
    }
   ],
   "source": [
    "# Distribution of classes in the train set\n",
    "print(\"Train set class distribution:\")\n",
    "print(train_df['airline_sentiment'].value_counts())\n",
    "\n",
    "# Distribution of classes in the test set\n",
    "print(\"\\nTest set class distribution:\")\n",
    "print(test_df['airline_sentiment'].value_counts())"
   ]
  },
  {
   "cell_type": "code",
   "execution_count": 5,
   "metadata": {},
   "outputs": [],
   "source": [
    "from sklearn.feature_extraction.text import TfidfVectorizer\n",
    "\n",
    "# Initialize the TF-IDF Vectorizer\n",
    "tfidf_vectorizer = TfidfVectorizer(max_features=5000)\n",
    "\n",
    "# Fit and transform the train and test data\n",
    "X_train_tfidf = tfidf_vectorizer.fit_transform(train_df['text'])\n",
    "X_test_tfidf = tfidf_vectorizer.transform(test_df['text'])"
   ]
  },
  {
   "cell_type": "code",
   "execution_count": 6,
   "metadata": {},
   "outputs": [],
   "source": [
    "from sklearn.linear_model import SGDClassifier\n",
    "\n",
    "# Initialize the SGDClassifier\n",
    "sgd_clf = SGDClassifier(loss='hinge', penalty='l2', alpha=1e-4, max_iter=100, tol=None, shuffle=True)\n",
    "\n",
    "# Train the classifier\n",
    "sgd_clf.fit(X_train_tfidf, train_df['airline_sentiment'])\n",
    "\n",
    "# Predict on the test set\n",
    "y_pred = sgd_clf.predict(X_test_tfidf)"
   ]
  },
  {
   "cell_type": "code",
   "execution_count": 7,
   "metadata": {},
   "outputs": [
    {
     "name": "stdout",
     "output_type": "stream",
     "text": [
      "Mean cross-validation accuracy: 0.7821\n"
     ]
    }
   ],
   "source": [
    "from sklearn.model_selection import cross_val_score\n",
    "\n",
    "# Perform 10-fold cross-validation\n",
    "cv_scores = cross_val_score(sgd_clf, X_train_tfidf, train_df['airline_sentiment'], cv=10, scoring='accuracy')\n",
    "\n",
    "# Calculate the mean accuracy across the 10 folds\n",
    "mean_cv_accuracy = np.mean(cv_scores)\n",
    "\n",
    "print(f\"Mean cross-validation accuracy: {mean_cv_accuracy:.4f}\")"
   ]
  },
  {
   "cell_type": "code",
   "execution_count": 8,
   "metadata": {},
   "outputs": [
    {
     "name": "stderr",
     "output_type": "stream",
     "text": [
      "[nltk_data] Downloading package stopwords to\n",
      "[nltk_data]     C:\\Users\\Stell\\AppData\\Roaming\\nltk_data...\n",
      "[nltk_data]   Package stopwords is already up-to-date!\n",
      "[nltk_data] Downloading package wordnet to\n",
      "[nltk_data]     C:\\Users\\Stell\\AppData\\Roaming\\nltk_data...\n",
      "[nltk_data]   Package wordnet is already up-to-date!\n"
     ]
    },
    {
     "name": "stdout",
     "output_type": "stream",
     "text": [
      "Actions: [], Mean CV Accuracy: 0.7814\n",
      "Actions: ['lowercase'], Mean CV Accuracy: 0.7818\n",
      "Actions: ['lowercase', 'remove_punctuation'], Mean CV Accuracy: 0.7817\n",
      "Actions: ['lowercase', 'remove_punctuation', 'remove_stopwords'], Mean CV Accuracy: 0.7817\n",
      "Actions: ['lowercase', 'remove_punctuation', 'remove_stopwords', 'lemmatize'], Mean CV Accuracy: 0.7820\n",
      "Actions: ['remove_punctuation'], Mean CV Accuracy: 0.7816\n",
      "Actions: ['remove_punctuation', 'remove_stopwords'], Mean CV Accuracy: 0.7817\n",
      "Actions: ['remove_punctuation', 'remove_stopwords', 'lemmatize'], Mean CV Accuracy: 0.7822\n",
      "Actions: ['remove_stopwords'], Mean CV Accuracy: 0.7814\n",
      "Actions: ['remove_stopwords', 'lemmatize'], Mean CV Accuracy: 0.7826\n",
      "Actions: ['lemmatize'], Mean CV Accuracy: 0.7824\n"
     ]
    }
   ],
   "source": [
    "import re\n",
    "import string\n",
    "from nltk.corpus import stopwords\n",
    "from nltk.stem import WordNetLemmatizer\n",
    "from sklearn.feature_extraction.text import TfidfVectorizer\n",
    "from sklearn.linear_model import SGDClassifier\n",
    "from sklearn.model_selection import cross_val_score\n",
    "import numpy as np\n",
    "import nltk\n",
    "\n",
    "# Download stopwords and wordnet\n",
    "nltk.download('stopwords')\n",
    "nltk.download('wordnet')\n",
    "\n",
    "# Initialize lemmatizer\n",
    "lemmatizer = WordNetLemmatizer()\n",
    "\n",
    "# Define preprocessing functions\n",
    "def lowercase(text):\n",
    "    return text.lower()\n",
    "\n",
    "def remove_punctuation(text):\n",
    "    return text.translate(str.maketrans('', '', string.punctuation))\n",
    "\n",
    "def remove_stopwords(text):\n",
    "    stop_words = set(stopwords.words('english'))\n",
    "    return ' '.join([word for word in text.split() if word not in stop_words])\n",
    "\n",
    "def lemmatize(text):\n",
    "    return ' '.join([lemmatizer.lemmatize(word) for word in text.split()])\n",
    "\n",
    "# Define a function to apply preprocessing actions\n",
    "def preprocess_text(text, actions):\n",
    "    for action in actions:\n",
    "        text = action(text)\n",
    "    return text\n",
    "\n",
    "# Define different combinations of preprocessing actions\n",
    "combinations = [\n",
    "    [],\n",
    "    [lowercase],\n",
    "    [lowercase, remove_punctuation],\n",
    "    [lowercase, remove_punctuation, remove_stopwords],\n",
    "    [lowercase, remove_punctuation, remove_stopwords, lemmatize],\n",
    "    [remove_punctuation],\n",
    "    [remove_punctuation, remove_stopwords],\n",
    "    [remove_punctuation, remove_stopwords, lemmatize],\n",
    "    [remove_stopwords],\n",
    "    [remove_stopwords, lemmatize],\n",
    "    [lemmatize]\n",
    "]\n",
    "\n",
    "# Evaluate the model's performance for each combination\n",
    "results = []\n",
    "for actions in combinations:\n",
    "    # Preprocess the text data\n",
    "    train_df['processed_text'] = train_df['text'].apply(lambda x: preprocess_text(x, actions))\n",
    "    test_df['processed_text'] = test_df['text'].apply(lambda x: preprocess_text(x, actions))\n",
    "    \n",
    "    # Initialize the TF-IDF Vectorizer\n",
    "    tfidf_vectorizer = TfidfVectorizer(max_features=5000)\n",
    "    \n",
    "    # Fit and transform the train and test data\n",
    "    X_train_tfidf = tfidf_vectorizer.fit_transform(train_df['processed_text'])\n",
    "    X_test_tfidf = tfidf_vectorizer.transform(test_df['processed_text'])\n",
    "    \n",
    "    # Initialize the SGDClassifier\n",
    "    sgd_clf = SGDClassifier(loss='hinge', penalty='l2', alpha=1e-4, max_iter=100, tol=None, shuffle=True)\n",
    "    \n",
    "    # Perform 10-fold cross-validation\n",
    "    cv_scores = cross_val_score(sgd_clf, X_train_tfidf, train_df['airline_sentiment'], cv=10, scoring='accuracy')\n",
    "    \n",
    "    # Calculate the mean accuracy across the 10 folds\n",
    "    mean_cv_accuracy = np.mean(cv_scores)\n",
    "    \n",
    "    # Store the results\n",
    "    results.append((actions, mean_cv_accuracy))\n",
    "\n",
    "# Print the results\n",
    "for actions, accuracy in results:\n",
    "    action_names = [action.__name__ for action in actions]\n",
    "    print(f\"Actions: {action_names}, Mean CV Accuracy: {accuracy:.4f}\")"
   ]
  },
  {
   "cell_type": "code",
   "execution_count": 9,
   "metadata": {},
   "outputs": [
    {
     "name": "stdout",
     "output_type": "stream",
     "text": [
      "Classification Accuracy: 0.7796\n",
      "Classification Report:\n",
      "              precision    recall  f1-score   support\n",
      "\n",
      "    negative       0.79      0.94      0.86       892\n",
      "     neutral       0.69      0.40      0.51       311\n",
      "    positive       0.78      0.66      0.72       208\n",
      "\n",
      "    accuracy                           0.78      1411\n",
      "   macro avg       0.75      0.67      0.69      1411\n",
      "weighted avg       0.77      0.78      0.76      1411\n",
      "\n",
      "Confusion Matrix:\n",
      "[[837  35  20]\n",
      " [166 125  20]\n",
      " [ 50  20 138]]\n"
     ]
    }
   ],
   "source": [
    "from sklearn.metrics import accuracy_score, confusion_matrix\n",
    "\n",
    "# Calculate classification accuracy\n",
    "classification_accuracy = accuracy_score(test_df['airline_sentiment'], y_pred)\n",
    "print(f\"Classification Accuracy: {classification_accuracy:.4f}\")\n",
    "\n",
    "# Print the classification report\n",
    "print(\"Classification Report:\")\n",
    "print(classification_report(test_df['airline_sentiment'], y_pred))\n",
    "\n",
    "# Print the confusion matrix\n",
    "print(\"Confusion Matrix:\")\n",
    "print(confusion_matrix(test_df['airline_sentiment'], y_pred))"
   ]
  }
 ],
 "metadata": {
  "kernelspec": {
   "display_name": "Python 3",
   "language": "python",
   "name": "python3"
  },
  "language_info": {
   "codemirror_mode": {
    "name": "ipython",
    "version": 3
   },
   "file_extension": ".py",
   "mimetype": "text/x-python",
   "name": "python",
   "nbconvert_exporter": "python",
   "pygments_lexer": "ipython3",
   "version": "3.11.9"
  }
 },
 "nbformat": 4,
 "nbformat_minor": 2
}
